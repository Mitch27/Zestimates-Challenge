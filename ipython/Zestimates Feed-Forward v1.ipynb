{
 "cells": [
  {
   "cell_type": "code",
   "execution_count": 18,
   "metadata": {
    "collapsed": true
   },
   "outputs": [],
   "source": [
    "import numpy as np\n",
    "import tensorflow as tf\n",
    "from sklearn.preprocessing import StandardScaler"
   ]
  },
  {
   "cell_type": "code",
   "execution_count": 19,
   "metadata": {
    "collapsed": true
   },
   "outputs": [],
   "source": [
    "class Batch:\n",
    "    def __init__(self, data, batchSize):\n",
    "        self.data = np.copy(data)\n",
    "        self.count = 0\n",
    "        self.batchSize = batchSize\n",
    "        np.random.shuffle(self.data)\n",
    "    \n",
    "    def getNextBatch(self):\n",
    "        if self.count >= len(self.data) / self.batchSize:\n",
    "            self.count = 0\n",
    "            np.random.shuffle(self.data)\n",
    "        start = self.count * self.batchSize\n",
    "        end = start + self.batchSize\n",
    "        toReturn = self.data[start:end]\n",
    "        self.count += 1\n",
    "        return toReturn\n",
    "\n",
    "def normalize(data, labels):\n",
    "    scaler = StandardScaler()\n",
    "    scaler.fit(data)\n",
    "    cleanData = scaler.transform(data)\n",
    "    fullData = np.hstack((cleanData, labels))\n",
    "    return scaler, fullData "
   ]
  },
  {
   "cell_type": "code",
   "execution_count": 20,
   "metadata": {
    "collapsed": true
   },
   "outputs": [],
   "source": [
    "LEARNING_RATE_START = 0.005\n",
    "LEARNING_RATE_END   = 0.0001\n",
    "N_EPOCHS      = 3000\n",
    "anneal_rate = (-1.0 * np.log(LEARNING_RATE_END / LEARNING_RATE_START)) / float(N_EPOCHS)\n",
    "batchSize = 50\n",
    "dirtyData = np.load('train.npy')\n",
    "scaler, fullData = normalize(dirtyData[:, :-1], dirtyData[:, -1:])"
   ]
  },
  {
   "cell_type": "code",
   "execution_count": 21,
   "metadata": {
    "collapsed": true
   },
   "outputs": [],
   "source": [
    "np.random.shuffle(fullData)\n",
    "train_data = fullData[:80000]\n",
    "valid_data = fullData[80000:]\n",
    "trainBatch = Batch(train_data, batchSize)"
   ]
  },
  {
   "cell_type": "code",
   "execution_count": 22,
   "metadata": {
    "collapsed": true
   },
   "outputs": [],
   "source": [
    "sess = tf.Session()\n",
    "V = tf.Variable(tf.random_normal([15, 55], stddev=0.1))\n",
    "W = tf.Variable(tf.random_normal([1, 15], stddev=0.1))\n",
    "X = tf.placeholder(tf.float32, [None, 55])\n",
    "y = tf.placeholder(tf.float32, [None, 1]) \n",
    "lr  = tf.placeholder(tf.float32)\n",
    "eval_dict={\n",
    "    X   : valid_data[:,:-1],\n",
    "    y   : valid_data[:,-1:]\n",
    "}"
   ]
  },
  {
   "cell_type": "code",
   "execution_count": 23,
   "metadata": {
    "collapsed": true
   },
   "outputs": [],
   "source": [
    "hidden = tf.nn.tanh(tf.matmul(V,tf.cast(tf.transpose(X), tf.float32)))\n",
    "estimate = tf.matmul(W, hidden)"
   ]
  },
  {
   "cell_type": "code",
   "execution_count": 30,
   "metadata": {
    "collapsed": true
   },
   "outputs": [],
   "source": [
    "loss = tf.reduce_mean(tf.abs(estimate - y))\n",
    "metric = tf.metrics.mean_absolute_error(estimate, tf.transpose(y))\n",
    "optimizer = tf.train.AdamOptimizer(lr)\n",
    "train_step = optimizer.minimize(loss)"
   ]
  },
  {
   "cell_type": "code",
   "execution_count": 31,
   "metadata": {
    "collapsed": true
   },
   "outputs": [],
   "source": [
    "saver = tf.train.Saver([V,W])"
   ]
  },
  {
   "cell_type": "code",
   "execution_count": 32,
   "metadata": {
    "collapsed": true
   },
   "outputs": [],
   "source": [
    "init = tf.global_variables_initializer()\n",
    "sess.run(init)"
   ]
  },
  {
   "cell_type": "code",
   "execution_count": 33,
   "metadata": {
    "collapsed": true
   },
   "outputs": [],
   "source": [
    "#Restore Variables\n",
    "\n",
    "# saver = tf.train.import_meta_graph('ZestimateWeight.meta')\n",
    "# saver.restore(sess,tf.train.latest_checkpoint('./'))"
   ]
  },
  {
   "cell_type": "code",
   "execution_count": 34,
   "metadata": {},
   "outputs": [
    {
     "name": "stdout",
     "output_type": "stream",
     "text": [
      "epoch #0\n",
      "checkPointed = False\n",
      "0.10053\n",
      "epoch #1\n",
      "checkPointed = False\n",
      "0.0663639\n",
      "epoch #2\n",
      "checkPointed = False\n",
      "0.0663213\n",
      "epoch #3\n",
      "checkPointed = False\n",
      "0.066447\n",
      "epoch #4\n",
      "checkPointed = False\n",
      "0.0664959\n",
      "epoch #5\n",
      "checkPointed = False\n",
      "0.0664109\n",
      "epoch #6\n",
      "checkPointed = False\n",
      "0.0668904\n",
      "epoch #7\n",
      "checkPointed = False\n",
      "0.0663458\n",
      "epoch #8\n",
      "checkPointed = False\n",
      "0.0664414\n",
      "epoch #9\n",
      "checkPointed = False\n",
      "0.0664182\n",
      "epoch #10\n",
      "checkPointed = False\n",
      "0.066456\n",
      "epoch #11\n",
      "checkPointed = False\n",
      "0.0663653\n",
      "epoch #12\n",
      "checkPointed = False\n",
      "0.0662806\n",
      "epoch #13\n",
      "checkPointed = False\n",
      "0.0663154\n",
      "epoch #14\n",
      "checkPointed = False\n",
      "0.0663292\n",
      "epoch #15\n",
      "checkPointed = False\n",
      "0.066324\n",
      "epoch #16\n",
      "checkPointed = False\n",
      "0.0664108\n",
      "epoch #17\n",
      "checkPointed = False\n",
      "0.0663288\n",
      "epoch #18\n",
      "checkPointed = False\n",
      "0.0663925\n",
      "epoch #19\n",
      "checkPointed = False\n",
      "0.066372\n",
      "epoch #20\n",
      "checkPointed = False\n",
      "0.0665329\n",
      "epoch #21\n",
      "checkPointed = False\n",
      "0.0665537\n",
      "epoch #22\n",
      "checkPointed = False\n",
      "0.0662792\n",
      "epoch #23\n",
      "checkPointed = False\n",
      "0.0665491\n",
      "epoch #24\n",
      "checkPointed = False\n",
      "0.0662594\n",
      "epoch #25\n",
      "checkPointed = False\n",
      "0.0663532\n",
      "epoch #26\n",
      "checkPointed = False\n",
      "0.06639\n",
      "epoch #27\n",
      "checkPointed = False\n",
      "0.066351\n"
     ]
    },
    {
     "ename": "KeyboardInterrupt",
     "evalue": "",
     "output_type": "error",
     "traceback": [
      "\u001b[0;31m---------------------------------------------------------------------------\u001b[0m",
      "\u001b[0;31mKeyboardInterrupt\u001b[0m                         Traceback (most recent call last)",
      "\u001b[0;32m<ipython-input-34-0dd48f15d034>\u001b[0m in \u001b[0;36m<module>\u001b[0;34m()\u001b[0m\n\u001b[1;32m      8\u001b[0m         \u001b[0mX\u001b[0m   \u001b[0;34m:\u001b[0m \u001b[0mcurrBatch\u001b[0m\u001b[0;34m[\u001b[0m\u001b[0;34m:\u001b[0m\u001b[0;34m,\u001b[0m \u001b[0;34m:\u001b[0m\u001b[0;34m-\u001b[0m\u001b[0;36m1\u001b[0m\u001b[0;34m]\u001b[0m\u001b[0;34m,\u001b[0m\u001b[0;34m\u001b[0m\u001b[0m\n\u001b[1;32m      9\u001b[0m         \u001b[0my\u001b[0m   \u001b[0;34m:\u001b[0m \u001b[0mcurrBatch\u001b[0m\u001b[0;34m[\u001b[0m\u001b[0;34m:\u001b[0m\u001b[0;34m,\u001b[0m \u001b[0;34m-\u001b[0m\u001b[0;36m1\u001b[0m\u001b[0;34m:\u001b[0m\u001b[0;34m]\u001b[0m\u001b[0;34m,\u001b[0m\u001b[0;34m\u001b[0m\u001b[0m\n\u001b[0;32m---> 10\u001b[0;31m         \u001b[0mlr\u001b[0m  \u001b[0;34m:\u001b[0m \u001b[0mcurr_lr\u001b[0m\u001b[0;34m\u001b[0m\u001b[0m\n\u001b[0m\u001b[1;32m     11\u001b[0m     })\n\u001b[1;32m     12\u001b[0m     \u001b[0mcheckpointed\u001b[0m \u001b[0;34m=\u001b[0m \u001b[0mFalse\u001b[0m\u001b[0;34m\u001b[0m\u001b[0m\n",
      "\u001b[0;32m/anaconda/lib/python2.7/site-packages/tensorflow/python/client/session.pyc\u001b[0m in \u001b[0;36mrun\u001b[0;34m(self, fetches, feed_dict, options, run_metadata)\u001b[0m\n\u001b[1;32m    787\u001b[0m     \u001b[0;32mtry\u001b[0m\u001b[0;34m:\u001b[0m\u001b[0;34m\u001b[0m\u001b[0m\n\u001b[1;32m    788\u001b[0m       result = self._run(None, fetches, feed_dict, options_ptr,\n\u001b[0;32m--> 789\u001b[0;31m                          run_metadata_ptr)\n\u001b[0m\u001b[1;32m    790\u001b[0m       \u001b[0;32mif\u001b[0m \u001b[0mrun_metadata\u001b[0m\u001b[0;34m:\u001b[0m\u001b[0;34m\u001b[0m\u001b[0m\n\u001b[1;32m    791\u001b[0m         \u001b[0mproto_data\u001b[0m \u001b[0;34m=\u001b[0m \u001b[0mtf_session\u001b[0m\u001b[0;34m.\u001b[0m\u001b[0mTF_GetBuffer\u001b[0m\u001b[0;34m(\u001b[0m\u001b[0mrun_metadata_ptr\u001b[0m\u001b[0;34m)\u001b[0m\u001b[0;34m\u001b[0m\u001b[0m\n",
      "\u001b[0;32m/anaconda/lib/python2.7/site-packages/tensorflow/python/client/session.pyc\u001b[0m in \u001b[0;36m_run\u001b[0;34m(self, handle, fetches, feed_dict, options, run_metadata)\u001b[0m\n\u001b[1;32m    995\u001b[0m     \u001b[0;32mif\u001b[0m \u001b[0mfinal_fetches\u001b[0m \u001b[0;32mor\u001b[0m \u001b[0mfinal_targets\u001b[0m\u001b[0;34m:\u001b[0m\u001b[0;34m\u001b[0m\u001b[0m\n\u001b[1;32m    996\u001b[0m       results = self._do_run(handle, final_targets, final_fetches,\n\u001b[0;32m--> 997\u001b[0;31m                              feed_dict_string, options, run_metadata)\n\u001b[0m\u001b[1;32m    998\u001b[0m     \u001b[0;32melse\u001b[0m\u001b[0;34m:\u001b[0m\u001b[0;34m\u001b[0m\u001b[0m\n\u001b[1;32m    999\u001b[0m       \u001b[0mresults\u001b[0m \u001b[0;34m=\u001b[0m \u001b[0;34m[\u001b[0m\u001b[0;34m]\u001b[0m\u001b[0;34m\u001b[0m\u001b[0m\n",
      "\u001b[0;32m/anaconda/lib/python2.7/site-packages/tensorflow/python/client/session.pyc\u001b[0m in \u001b[0;36m_do_run\u001b[0;34m(self, handle, target_list, fetch_list, feed_dict, options, run_metadata)\u001b[0m\n\u001b[1;32m   1130\u001b[0m     \u001b[0;32mif\u001b[0m \u001b[0mhandle\u001b[0m \u001b[0;32mis\u001b[0m \u001b[0mNone\u001b[0m\u001b[0;34m:\u001b[0m\u001b[0;34m\u001b[0m\u001b[0m\n\u001b[1;32m   1131\u001b[0m       return self._do_call(_run_fn, self._session, feed_dict, fetch_list,\n\u001b[0;32m-> 1132\u001b[0;31m                            target_list, options, run_metadata)\n\u001b[0m\u001b[1;32m   1133\u001b[0m     \u001b[0;32melse\u001b[0m\u001b[0;34m:\u001b[0m\u001b[0;34m\u001b[0m\u001b[0m\n\u001b[1;32m   1134\u001b[0m       return self._do_call(_prun_fn, self._session, handle, feed_dict,\n",
      "\u001b[0;32m/anaconda/lib/python2.7/site-packages/tensorflow/python/client/session.pyc\u001b[0m in \u001b[0;36m_do_call\u001b[0;34m(self, fn, *args)\u001b[0m\n\u001b[1;32m   1137\u001b[0m   \u001b[0;32mdef\u001b[0m \u001b[0m_do_call\u001b[0m\u001b[0;34m(\u001b[0m\u001b[0mself\u001b[0m\u001b[0;34m,\u001b[0m \u001b[0mfn\u001b[0m\u001b[0;34m,\u001b[0m \u001b[0;34m*\u001b[0m\u001b[0margs\u001b[0m\u001b[0;34m)\u001b[0m\u001b[0;34m:\u001b[0m\u001b[0;34m\u001b[0m\u001b[0m\n\u001b[1;32m   1138\u001b[0m     \u001b[0;32mtry\u001b[0m\u001b[0;34m:\u001b[0m\u001b[0;34m\u001b[0m\u001b[0m\n\u001b[0;32m-> 1139\u001b[0;31m       \u001b[0;32mreturn\u001b[0m \u001b[0mfn\u001b[0m\u001b[0;34m(\u001b[0m\u001b[0;34m*\u001b[0m\u001b[0margs\u001b[0m\u001b[0;34m)\u001b[0m\u001b[0;34m\u001b[0m\u001b[0m\n\u001b[0m\u001b[1;32m   1140\u001b[0m     \u001b[0;32mexcept\u001b[0m \u001b[0merrors\u001b[0m\u001b[0;34m.\u001b[0m\u001b[0mOpError\u001b[0m \u001b[0;32mas\u001b[0m \u001b[0me\u001b[0m\u001b[0;34m:\u001b[0m\u001b[0;34m\u001b[0m\u001b[0m\n\u001b[1;32m   1141\u001b[0m       \u001b[0mmessage\u001b[0m \u001b[0;34m=\u001b[0m \u001b[0mcompat\u001b[0m\u001b[0;34m.\u001b[0m\u001b[0mas_text\u001b[0m\u001b[0;34m(\u001b[0m\u001b[0me\u001b[0m\u001b[0;34m.\u001b[0m\u001b[0mmessage\u001b[0m\u001b[0;34m)\u001b[0m\u001b[0;34m\u001b[0m\u001b[0m\n",
      "\u001b[0;32m/anaconda/lib/python2.7/site-packages/tensorflow/python/client/session.pyc\u001b[0m in \u001b[0;36m_run_fn\u001b[0;34m(session, feed_dict, fetch_list, target_list, options, run_metadata)\u001b[0m\n\u001b[1;32m   1119\u001b[0m         return tf_session.TF_Run(session, options,\n\u001b[1;32m   1120\u001b[0m                                  \u001b[0mfeed_dict\u001b[0m\u001b[0;34m,\u001b[0m \u001b[0mfetch_list\u001b[0m\u001b[0;34m,\u001b[0m \u001b[0mtarget_list\u001b[0m\u001b[0;34m,\u001b[0m\u001b[0;34m\u001b[0m\u001b[0m\n\u001b[0;32m-> 1121\u001b[0;31m                                  status, run_metadata)\n\u001b[0m\u001b[1;32m   1122\u001b[0m \u001b[0;34m\u001b[0m\u001b[0m\n\u001b[1;32m   1123\u001b[0m     \u001b[0;32mdef\u001b[0m \u001b[0m_prun_fn\u001b[0m\u001b[0;34m(\u001b[0m\u001b[0msession\u001b[0m\u001b[0;34m,\u001b[0m \u001b[0mhandle\u001b[0m\u001b[0;34m,\u001b[0m \u001b[0mfeed_dict\u001b[0m\u001b[0;34m,\u001b[0m \u001b[0mfetch_list\u001b[0m\u001b[0;34m)\u001b[0m\u001b[0;34m:\u001b[0m\u001b[0;34m\u001b[0m\u001b[0m\n",
      "\u001b[0;31mKeyboardInterrupt\u001b[0m: "
     ]
    }
   ],
   "source": [
    "epochSize = len(fullData) / batchSize\n",
    "best_loss = 0.066\n",
    "curr_lr = LEARNING_RATE_START\n",
    "\n",
    "for i in range(N_EPOCHS*epochSize):\n",
    "    currBatch = trainBatch.getNextBatch()\n",
    "    sess.run(train_step, feed_dict={\n",
    "        X   : currBatch[:, :-1],\n",
    "        y   : currBatch[:, -1:],\n",
    "        lr  : curr_lr\n",
    "    })\n",
    "    checkpointed = False\n",
    "    \n",
    "    if i %  epochSize == 0:\n",
    "        print(\"epoch #\" + str(i /epochSize))\n",
    "        tr_loss = sess.run(loss, eval_dict)\n",
    "        if tr_loss < best_loss:\n",
    "            best_loss = tr_loss\n",
    "            saver.save(sess, \"ZestimateWeight\")\n",
    "            curr_lr = LEARNING_RATE_START * np.exp(-1.0 * anneal_rate * i)\n",
    "            checkpointed = True\n",
    "        print(\"checkPointed = \" + str(checkpointed))\n",
    "        print(tr_loss)\n",
    "\n",
    "        "
   ]
  },
  {
   "cell_type": "code",
   "execution_count": 16,
   "metadata": {
    "collapsed": true
   },
   "outputs": [],
   "source": [
    "testData = scaler.transform(np.load('testData.npy'))"
   ]
  },
  {
   "cell_type": "code",
   "execution_count": 269,
   "metadata": {
    "collapsed": true
   },
   "outputs": [],
   "source": [
    "preds = sess.run(estimate, { X: testData})"
   ]
  },
  {
   "cell_type": "code",
   "execution_count": 270,
   "metadata": {
    "collapsed": true
   },
   "outputs": [],
   "source": [
    "np.save(\"NNPredictions.npy\", preds)"
   ]
  },
  {
   "cell_type": "code",
   "execution_count": 196,
   "metadata": {},
   "outputs": [
    {
     "data": {
      "text/plain": [
       "(1, 2985217)"
      ]
     },
     "execution_count": 196,
     "metadata": {},
     "output_type": "execute_result"
    }
   ],
   "source": [
    "preds.shape"
   ]
  },
  {
   "cell_type": "code",
   "execution_count": 3,
   "metadata": {
    "collapsed": true
   },
   "outputs": [],
   "source": []
  },
  {
   "cell_type": "code",
   "execution_count": 4,
   "metadata": {
    "collapsed": true
   },
   "outputs": [],
   "source": []
  },
  {
   "cell_type": "code",
   "execution_count": null,
   "metadata": {
    "collapsed": true
   },
   "outputs": [],
   "source": []
  }
 ],
 "metadata": {
  "kernelspec": {
   "display_name": "Python 2",
   "language": "python",
   "name": "python2"
  },
  "language_info": {
   "codemirror_mode": {
    "name": "ipython",
    "version": 2
   },
   "file_extension": ".py",
   "mimetype": "text/x-python",
   "name": "python",
   "nbconvert_exporter": "python",
   "pygments_lexer": "ipython2",
   "version": "2.7.13"
  }
 },
 "nbformat": 4,
 "nbformat_minor": 2
}
