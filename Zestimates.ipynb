{
 "cells": [
  {
   "cell_type": "code",
   "execution_count": 1,
   "metadata": {
    "collapsed": true
   },
   "outputs": [],
   "source": [
    "import csv\n",
    "from sklearn import preprocessing\n",
    "from sklearn.feature_extraction import DictVectorizer\n",
    "from sklearn.preprocessing import OneHotEncoder\n",
    "import scipy.io\n",
    "import numpy as np\n",
    "from scipy.stats import mode\n",
    "import xgboost as xgb\n",
    "from sklearn.metrics import mean_absolute_error\n",
    "import pandas as pd "
   ]
  },
  {
   "cell_type": "code",
   "execution_count": 2,
   "metadata": {
    "collapsed": true
   },
   "outputs": [],
   "source": [
    "dataSize = 2985217"
   ]
  },
  {
   "cell_type": "code",
   "execution_count": 3,
   "metadata": {},
   "outputs": [
    {
     "name": "stdout",
     "output_type": "stream",
     "text": [
      "-4.605\n",
      "4.737\n"
     ]
    }
   ],
   "source": [
    "df = pd.read_csv('train_2016_v2.csv')\n",
    "print df['logerror'].min()\n",
    "print df['logerror'].max()"
   ]
  },
  {
   "cell_type": "code",
   "execution_count": 4,
   "metadata": {},
   "outputs": [
    {
     "ename": "SyntaxError",
     "evalue": "invalid syntax (<ipython-input-4-76c43d628bf7>, line 1)",
     "output_type": "error",
     "traceback": [
      "\u001b[0;36m  File \u001b[0;32m\"<ipython-input-4-76c43d628bf7>\"\u001b[0;36m, line \u001b[0;32m1\u001b[0m\n\u001b[0;31m    out = tf.net(..)\u001b[0m\n\u001b[0m                 ^\u001b[0m\n\u001b[0;31mSyntaxError\u001b[0m\u001b[0;31m:\u001b[0m invalid syntax\n"
     ]
    }
   ],
   "source": [
    "out = tf.net(..)\n",
    "\n",
    "out = tf.min(out, 4.8)\n",
    "out = tf.max(out, -4.7)\n",
    "\n",
    "loss = tf.mse(out)\n",
    "\n",
    "optimizer.minimize(loss)\n",
    "\n",
    "# 'propertycountylandusecode',\n",
    "# 'taxdelinquencyflag',\n",
    "# 'propertyzoningdesc'"
   ]
  },
  {
   "cell_type": "code",
   "execution_count": 5,
   "metadata": {},
   "outputs": [
    {
     "name": "stderr",
     "output_type": "stream",
     "text": [
      "/anaconda/lib/python2.7/site-packages/IPython/core/interactiveshell.py:2717: DtypeWarning: Columns (22,32,34,49,55) have mixed types. Specify dtype option on import or set low_memory=False.\n",
      "  interactivity=interactivity, compiler=compiler, result=result)\n"
     ]
    },
    {
     "data": {
      "text/html": [
       "<div>\n",
       "<style>\n",
       "    .dataframe thead tr:only-child th {\n",
       "        text-align: right;\n",
       "    }\n",
       "\n",
       "    .dataframe thead th {\n",
       "        text-align: left;\n",
       "    }\n",
       "\n",
       "    .dataframe tbody tr th {\n",
       "        vertical-align: top;\n",
       "    }\n",
       "</style>\n",
       "<table border=\"1\" class=\"dataframe\">\n",
       "  <thead>\n",
       "    <tr style=\"text-align: right;\">\n",
       "      <th></th>\n",
       "      <th>parcelid</th>\n",
       "      <th>airconditioningtypeid</th>\n",
       "      <th>architecturalstyletypeid</th>\n",
       "      <th>basementsqft</th>\n",
       "      <th>bathroomcnt</th>\n",
       "      <th>bedroomcnt</th>\n",
       "      <th>buildingclasstypeid</th>\n",
       "      <th>buildingqualitytypeid</th>\n",
       "      <th>calculatedbathnbr</th>\n",
       "      <th>decktypeid</th>\n",
       "      <th>...</th>\n",
       "      <th>numberofstories</th>\n",
       "      <th>fireplaceflag</th>\n",
       "      <th>structuretaxvaluedollarcnt</th>\n",
       "      <th>taxvaluedollarcnt</th>\n",
       "      <th>assessmentyear</th>\n",
       "      <th>landtaxvaluedollarcnt</th>\n",
       "      <th>taxamount</th>\n",
       "      <th>taxdelinquencyflag</th>\n",
       "      <th>taxdelinquencyyear</th>\n",
       "      <th>censustractandblock</th>\n",
       "    </tr>\n",
       "  </thead>\n",
       "  <tbody>\n",
       "    <tr>\n",
       "      <th>0</th>\n",
       "      <td>10754147</td>\n",
       "      <td>NaN</td>\n",
       "      <td>NaN</td>\n",
       "      <td>NaN</td>\n",
       "      <td>0.0</td>\n",
       "      <td>0.0</td>\n",
       "      <td>NaN</td>\n",
       "      <td>NaN</td>\n",
       "      <td>NaN</td>\n",
       "      <td>NaN</td>\n",
       "      <td>...</td>\n",
       "      <td>NaN</td>\n",
       "      <td>NaN</td>\n",
       "      <td>NaN</td>\n",
       "      <td>9.0</td>\n",
       "      <td>2015.0</td>\n",
       "      <td>9.0</td>\n",
       "      <td>NaN</td>\n",
       "      <td>NaN</td>\n",
       "      <td>NaN</td>\n",
       "      <td>NaN</td>\n",
       "    </tr>\n",
       "    <tr>\n",
       "      <th>1</th>\n",
       "      <td>10759547</td>\n",
       "      <td>NaN</td>\n",
       "      <td>NaN</td>\n",
       "      <td>NaN</td>\n",
       "      <td>0.0</td>\n",
       "      <td>0.0</td>\n",
       "      <td>NaN</td>\n",
       "      <td>NaN</td>\n",
       "      <td>NaN</td>\n",
       "      <td>NaN</td>\n",
       "      <td>...</td>\n",
       "      <td>NaN</td>\n",
       "      <td>NaN</td>\n",
       "      <td>NaN</td>\n",
       "      <td>27516.0</td>\n",
       "      <td>2015.0</td>\n",
       "      <td>27516.0</td>\n",
       "      <td>NaN</td>\n",
       "      <td>NaN</td>\n",
       "      <td>NaN</td>\n",
       "      <td>NaN</td>\n",
       "    </tr>\n",
       "    <tr>\n",
       "      <th>2</th>\n",
       "      <td>10843547</td>\n",
       "      <td>NaN</td>\n",
       "      <td>NaN</td>\n",
       "      <td>NaN</td>\n",
       "      <td>0.0</td>\n",
       "      <td>0.0</td>\n",
       "      <td>NaN</td>\n",
       "      <td>NaN</td>\n",
       "      <td>NaN</td>\n",
       "      <td>NaN</td>\n",
       "      <td>...</td>\n",
       "      <td>NaN</td>\n",
       "      <td>NaN</td>\n",
       "      <td>650756.0</td>\n",
       "      <td>1413387.0</td>\n",
       "      <td>2015.0</td>\n",
       "      <td>762631.0</td>\n",
       "      <td>20800.37</td>\n",
       "      <td>NaN</td>\n",
       "      <td>NaN</td>\n",
       "      <td>NaN</td>\n",
       "    </tr>\n",
       "    <tr>\n",
       "      <th>3</th>\n",
       "      <td>10859147</td>\n",
       "      <td>NaN</td>\n",
       "      <td>NaN</td>\n",
       "      <td>NaN</td>\n",
       "      <td>0.0</td>\n",
       "      <td>0.0</td>\n",
       "      <td>3.0</td>\n",
       "      <td>7.0</td>\n",
       "      <td>NaN</td>\n",
       "      <td>NaN</td>\n",
       "      <td>...</td>\n",
       "      <td>1.0</td>\n",
       "      <td>NaN</td>\n",
       "      <td>571346.0</td>\n",
       "      <td>1156834.0</td>\n",
       "      <td>2015.0</td>\n",
       "      <td>585488.0</td>\n",
       "      <td>14557.57</td>\n",
       "      <td>NaN</td>\n",
       "      <td>NaN</td>\n",
       "      <td>NaN</td>\n",
       "    </tr>\n",
       "    <tr>\n",
       "      <th>4</th>\n",
       "      <td>10879947</td>\n",
       "      <td>NaN</td>\n",
       "      <td>NaN</td>\n",
       "      <td>NaN</td>\n",
       "      <td>0.0</td>\n",
       "      <td>0.0</td>\n",
       "      <td>4.0</td>\n",
       "      <td>NaN</td>\n",
       "      <td>NaN</td>\n",
       "      <td>NaN</td>\n",
       "      <td>...</td>\n",
       "      <td>NaN</td>\n",
       "      <td>NaN</td>\n",
       "      <td>193796.0</td>\n",
       "      <td>433491.0</td>\n",
       "      <td>2015.0</td>\n",
       "      <td>239695.0</td>\n",
       "      <td>5725.17</td>\n",
       "      <td>NaN</td>\n",
       "      <td>NaN</td>\n",
       "      <td>NaN</td>\n",
       "    </tr>\n",
       "  </tbody>\n",
       "</table>\n",
       "<p>5 rows × 58 columns</p>\n",
       "</div>"
      ],
      "text/plain": [
       "   parcelid  airconditioningtypeid  architecturalstyletypeid  basementsqft  \\\n",
       "0  10754147                    NaN                       NaN           NaN   \n",
       "1  10759547                    NaN                       NaN           NaN   \n",
       "2  10843547                    NaN                       NaN           NaN   \n",
       "3  10859147                    NaN                       NaN           NaN   \n",
       "4  10879947                    NaN                       NaN           NaN   \n",
       "\n",
       "   bathroomcnt  bedroomcnt  buildingclasstypeid  buildingqualitytypeid  \\\n",
       "0          0.0         0.0                  NaN                    NaN   \n",
       "1          0.0         0.0                  NaN                    NaN   \n",
       "2          0.0         0.0                  NaN                    NaN   \n",
       "3          0.0         0.0                  3.0                    7.0   \n",
       "4          0.0         0.0                  4.0                    NaN   \n",
       "\n",
       "   calculatedbathnbr  decktypeid         ...           numberofstories  \\\n",
       "0                NaN         NaN         ...                       NaN   \n",
       "1                NaN         NaN         ...                       NaN   \n",
       "2                NaN         NaN         ...                       NaN   \n",
       "3                NaN         NaN         ...                       1.0   \n",
       "4                NaN         NaN         ...                       NaN   \n",
       "\n",
       "   fireplaceflag  structuretaxvaluedollarcnt  taxvaluedollarcnt  \\\n",
       "0            NaN                         NaN                9.0   \n",
       "1            NaN                         NaN            27516.0   \n",
       "2            NaN                    650756.0          1413387.0   \n",
       "3            NaN                    571346.0          1156834.0   \n",
       "4            NaN                    193796.0           433491.0   \n",
       "\n",
       "   assessmentyear  landtaxvaluedollarcnt  taxamount  taxdelinquencyflag  \\\n",
       "0          2015.0                    9.0        NaN                 NaN   \n",
       "1          2015.0                27516.0        NaN                 NaN   \n",
       "2          2015.0               762631.0   20800.37                 NaN   \n",
       "3          2015.0               585488.0   14557.57                 NaN   \n",
       "4          2015.0               239695.0    5725.17                 NaN   \n",
       "\n",
       "   taxdelinquencyyear  censustractandblock  \n",
       "0                 NaN                  NaN  \n",
       "1                 NaN                  NaN  \n",
       "2                 NaN                  NaN  \n",
       "3                 NaN                  NaN  \n",
       "4                 NaN                  NaN  \n",
       "\n",
       "[5 rows x 58 columns]"
      ]
     },
     "execution_count": 5,
     "metadata": {},
     "output_type": "execute_result"
    }
   ],
   "source": [
    "properties_df = pd.read_csv('properties_2016.csv')\n",
    "properties_df.head()"
   ]
  },
  {
   "cell_type": "code",
   "execution_count": 26,
   "metadata": {},
   "outputs": [
    {
     "data": {
      "text/plain": [
       "13980"
      ]
     },
     "execution_count": 26,
     "metadata": {},
     "output_type": "execute_result"
    }
   ],
   "source": [
    "properties_df['regionidzip'].unique()\n",
    "properties_df['regionidzip'].value_counts()\n",
    "np.count_nonzero(properties_df['regionidzip'].isnull().values)"
   ]
  },
  {
   "cell_type": "code",
   "execution_count": 8,
   "metadata": {},
   "outputs": [
    {
     "data": {
      "text/plain": [
       "Index([u'parcelid', u'airconditioningtypeid', u'architecturalstyletypeid',\n",
       "       u'basementsqft', u'bathroomcnt', u'bedroomcnt', u'buildingclasstypeid',\n",
       "       u'buildingqualitytypeid', u'calculatedbathnbr', u'decktypeid',\n",
       "       u'finishedfloor1squarefeet', u'calculatedfinishedsquarefeet',\n",
       "       u'finishedsquarefeet12', u'finishedsquarefeet13',\n",
       "       u'finishedsquarefeet15', u'finishedsquarefeet50',\n",
       "       u'finishedsquarefeet6', u'fips', u'fireplacecnt', u'fullbathcnt',\n",
       "       u'garagecarcnt', u'garagetotalsqft', u'hashottuborspa',\n",
       "       u'heatingorsystemtypeid', u'latitude', u'longitude',\n",
       "       u'lotsizesquarefeet', u'poolcnt', u'poolsizesum', u'pooltypeid10',\n",
       "       u'pooltypeid2', u'pooltypeid7', u'propertycountylandusecode',\n",
       "       u'propertylandusetypeid', u'propertyzoningdesc',\n",
       "       u'rawcensustractandblock', u'regionidcity', u'regionidcounty',\n",
       "       u'regionidneighborhood', u'regionidzip', u'roomcnt', u'storytypeid',\n",
       "       u'threequarterbathnbr', u'typeconstructiontypeid', u'unitcnt',\n",
       "       u'yardbuildingsqft17', u'yardbuildingsqft26', u'yearbuilt',\n",
       "       u'numberofstories', u'fireplaceflag', u'structuretaxvaluedollarcnt',\n",
       "       u'taxvaluedollarcnt', u'assessmentyear', u'landtaxvaluedollarcnt',\n",
       "       u'taxamount', u'taxdelinquencyflag', u'taxdelinquencyyear',\n",
       "       u'censustractandblock'],\n",
       "      dtype='object')"
      ]
     },
     "execution_count": 8,
     "metadata": {},
     "output_type": "execute_result"
    }
   ],
   "source": [
    "properties_df.columns"
   ]
  },
  {
   "cell_type": "code",
   "execution_count": null,
   "metadata": {
    "collapsed": true
   },
   "outputs": [],
   "source": []
  },
  {
   "cell_type": "markdown",
   "metadata": {},
   "source": [
    "## Preprocessing"
   ]
  },
  {
   "cell_type": "markdown",
   "metadata": {},
   "source": [
    "### Helpers"
   ]
  },
  {
   "cell_type": "code",
   "execution_count": 16,
   "metadata": {
    "collapsed": true
   },
   "outputs": [],
   "source": [
    "def dateBucketer(date):\n",
    "    year, month, day = date.split('-')\n",
    "    year = int(year)\n",
    "    month = int(month)\n",
    "    day = int(day)\n",
    "    return month\n",
    "\n",
    "# print dateBucketer(\"2016-10-14\");\n",
    "\n",
    "def dateList(transactionlist):\n",
    "    months = []\n",
    "    for date, error in transactionlist:\n",
    "        months.append(dateBucketer(date))\n",
    "    return months\n",
    "\n",
    "# print(dateList([(\"2016-10-14\",123456), (\"2016-11-14\",123456)]))\n",
    "\n",
    "def labelExtractor(month, transactionlist):\n",
    "    for date, error in transactionlist:\n",
    "        if (dateBucketer(date) == month):\n",
    "            return error"
   ]
  },
  {
   "cell_type": "markdown",
   "metadata": {},
   "source": [
    "### Dictionary: (Key = propertyID, Value=list of transactions)"
   ]
  },
  {
   "cell_type": "code",
   "execution_count": 3,
   "metadata": {},
   "outputs": [
    {
     "name": "stdout",
     "output_type": "stream",
     "text": [
      "transactions length = 90275\n"
     ]
    }
   ],
   "source": [
    "transactionByProperty = {}\n",
    "with open('train_2016_v2.csv', 'rb') as csvfile:\n",
    "    transactionReader = csv.reader(csvfile, delimiter=',')\n",
    "    length = 0\n",
    "    firstLine = 0\n",
    "    \n",
    "    for row in transactionReader:\n",
    "        if firstLine == 0:\n",
    "            firstLine = 1\n",
    "            continue\n",
    "        parcelid, logerror, transactiondate = row\n",
    "        if parcelid in transactionByProperty:\n",
    "            transactionByProperty[parcelid].append((transactiondate, logerror))\n",
    "        else:\n",
    "            transactionByProperty[parcelid] = [(transactiondate, logerror)]\n",
    "        length +=1\n",
    "    print \"transactions length = \" + str(length)"
   ]
  },
  {
   "cell_type": "markdown",
   "metadata": {},
   "source": [
    "### Build October Data"
   ]
  },
  {
   "cell_type": "code",
   "execution_count": 4,
   "metadata": {
    "collapsed": true
   },
   "outputs": [],
   "source": [
    "octoberTransactions = {}\n",
    "specifiedMonth = 10\n",
    "for propertyID in transactionByProperty:\n",
    "    transactionList = transactionByProperty[propertyID]\n",
    "    if specifiedMonth in dateList(transactionList):\n",
    "        octoberTransactions[propertyID] = labelExtractor(specifiedMonth, transactionList)"
   ]
  },
  {
   "cell_type": "code",
   "execution_count": 5,
   "metadata": {},
   "outputs": [
    {
     "name": "stdout",
     "output_type": "stream",
     "text": [
      "4977\n"
     ]
    }
   ],
   "source": [
    "# print(octoberTransactions)\n",
    "print(len(octoberTransactions.keys()))\n",
    "# print(octoberTransactions.keys()[:10])"
   ]
  },
  {
   "cell_type": "code",
   "execution_count": 6,
   "metadata": {
    "collapsed": true
   },
   "outputs": [],
   "source": [
    "categoryNames = None\n",
    "with open('properties_2016.csv','r') as csvfile:\n",
    "    property_reader = csv.DictReader(csvfile)\n",
    "\n",
    "    for row in property_reader:\n",
    "        categoryNames = row.keys()\n",
    "        break\n",
    "\n",
    "toDeleteCategories = ['propertycountylandusecode',\n",
    "                      'taxdelinquencyflag',\n",
    "                      'propertyzoningdesc']\n",
    "categoricalFeatures = ['airconditioningtypeid',\n",
    "                       'architecturalstyletypeid',\n",
    "                       'buildingclasstypeid',\n",
    "                       'decktypeid',\n",
    "                       'heatingorsystemtypeid',\n",
    "                       'propertylandusetypeid',\n",
    "                       'storytypeid',\n",
    "                       'typeconstructiontypeid']\n",
    "numericalFeatures = [key for key in categoryNames if \n",
    "                                 key not in categoricalFeatures and key not in toDeleteCategories]"
   ]
  },
  {
   "cell_type": "code",
   "execution_count": 7,
   "metadata": {
    "collapsed": true
   },
   "outputs": [],
   "source": [
    "preprocessed_data = []\n",
    "numeric = numericalFeatures\n",
    "categorical = categoricalFeatures\n",
    "numericElemsAvgs = {}\n",
    "categorElemsModes = {}\n",
    "\n",
    "with open('properties_2016.csv','r') as csvfile:\n",
    "    property_reader = csv.DictReader(csvfile)\n",
    "    count = 0\n",
    "    for row in property_reader:\n",
    "        if row['parcelid'] in octoberTransactions:\n",
    "            preprocessed_data.append(row)\n",
    "\n",
    "# with open('properties_2016.csv','r') as csvfile:\n",
    "#     property_reader = csv.DictReader(csvfile)\n",
    "#     count = 0\n",
    "#     for row in property_reader:\n",
    "#         if count > 200000:\n",
    "#             break;\n",
    "#         preprocessed_data.append(row)\n",
    "#         count += 1\n",
    "\n",
    "for elem in preprocessed_data:\n",
    "    for i in range(len(numeric)):\n",
    "        if elem[numeric[i]] != '':\n",
    "            if numeric[i] == 'hashottuborspa' or numeric[i] == 'fireplaceflag':\n",
    "                if elem[numeric[i]] == 'TRUE' or elem[numeric[i]] == 'true':\n",
    "                    elem[numeric[i]] = 1\n",
    "                else:\n",
    "                    elem[numeric[i]] = 0\n",
    "            else:\n",
    "                elem[numeric[i]] = float(elem.get(numeric[i]))\n",
    "            \n",
    "    for i in range(len(categorical)):\n",
    "        if elem[categorical[i]] != '':\n",
    "            elem[categorical[i]] = float(elem.get(categorical[i]))\n",
    "\n",
    "for numer in numeric:\n",
    "    avg = sum([sample[numer] for sample in preprocessed_data if sample[numer] !=''])/len(preprocessed_data)\n",
    "    if avg:\n",
    "        numericElemsAvgs[numer] = avg\n",
    "    else:\n",
    "        numericElemsAvgs[numer] = 0\n",
    "for categ in categorical:\n",
    "    modeCateg = mode([sample[categ] for sample in preprocessed_data if sample[categ]!=\"\"])[0]\n",
    "    if modeCateg:\n",
    "        categorElemsModes[categ] = modeCateg[0] \n",
    "    else:\n",
    "        categorElemsModes[categ] = None\n",
    "\n",
    "for numer in numeric:\n",
    "    for sample in preprocessed_data:\n",
    "        if sample[numer] == '':\n",
    "            sample[numer] = numericElemsAvgs[numer]\n",
    "for categ in categorical:\n",
    "    for sample in preprocessed_data:\n",
    "        if sample[categ] == '':\n",
    "            sample[categ] = categorElemsModes[categ]            \n",
    "# print(numericElemsAvgs)\n",
    "# print(categorElemsModes)\n",
    "# print(preprocessed_data[0])"
   ]
  },
  {
   "cell_type": "markdown",
   "metadata": {},
   "source": [
    "### Convert Dict to Array"
   ]
  },
  {
   "cell_type": "code",
   "execution_count": 8,
   "metadata": {
    "collapsed": true
   },
   "outputs": [],
   "source": [
    "octoberDataArray = []\n",
    "categoriesToKeep = numeric + categorical # + ['OTHER PARAMS LIKE PRICE'] \n",
    "for sample in preprocessed_data:\n",
    "    parcelid = str(int(sample['parcelid']))\n",
    "    if parcelid in octoberTransactions:\n",
    "        reformattedSample = [sample[categ] for categ in categoriesToKeep]\n",
    "        reformattedSample.append(float(octoberTransactions[parcelid]))\n",
    "        octoberDataArray.append(list(reformattedSample))"
   ]
  },
  {
   "cell_type": "code",
   "execution_count": 11,
   "metadata": {
    "collapsed": true
   },
   "outputs": [],
   "source": [
    "def clean(row, numericElemsAvgs, categorElemsModes, numeric, categorical, categoriesToKeep):\n",
    "    for i in range(len(numeric)):\n",
    "        if row[numeric[i]] != '':\n",
    "            if numeric[i] == 'hashottuborspa' or numeric[i] == 'fireplaceflag':\n",
    "                if row[numeric[i]] == 'TRUE' or row[numeric[i]] == 'true':\n",
    "                    row[numeric[i]] = 1\n",
    "                else:\n",
    "                    row[numeric[i]] = 0\n",
    "            else:\n",
    "                row[numeric[i]] = float(row.get(numeric[i]))\n",
    "    for i in range(len(categorical)):\n",
    "        if row[categorical[i]] != '':\n",
    "            row[categorical[i]] = float(row.get(categorical[i]))  \n",
    "\n",
    "    for numer in numeric:\n",
    "        if row[numer] == '':\n",
    "            row[numer] = numericElemsAvgs[numer]\n",
    "    for categ in categorical:\n",
    "        if row[categ] == '':\n",
    "            row[categ] = categorElemsModes[categ]     \n",
    "    return list([row[categ] for categ in categoriesToKeep])"
   ]
  },
  {
   "cell_type": "code",
   "execution_count": 12,
   "metadata": {},
   "outputs": [
    {
     "name": "stdout",
     "output_type": "stream",
     "text": [
      "(4977, 56)\n"
     ]
    }
   ],
   "source": [
    "###TODO: ONE HOT ENCODING :( Takes too much space\n",
    "# categoryIndices = [categoriesToKeep.index(categ) for categ in categorical]\n",
    "# enc = OneHotEncoder(categorical_features=categoryIndices)\n",
    "# enc.fit(octoberDataArray) \n",
    "# octoberDataOneHot = enc.transform(octoberDataArray).toarray()\n",
    "# octoberDataNp = np.array(octoberDataOneHot)\n",
    "\n",
    "octoberDataNp = np.array(octoberDataArray)\n",
    "print(octoberDataNp.shape)\n",
    "\n"
   ]
  },
  {
   "cell_type": "code",
   "execution_count": 13,
   "metadata": {
    "collapsed": true
   },
   "outputs": [],
   "source": [
    "with open('properties_2016.csv','r') as csvfile:\n",
    "    property_reader = csv.DictReader(csvfile)\n",
    "    trainingCollection= []\n",
    "    for row in property_reader:\n",
    "        if row['parcelid'] in transactionByProperty:\n",
    "            cleaned = clean(row, numericElemsAvgs, categorElemsModes, numeric, categorical, categoriesToKeep)\n",
    "            parcelid = str(int(row['parcelid']))\n",
    "            cleaned.append(float(transactionByProperty[parcelid][0][1]))\n",
    "            trainingCollection.append(list(cleaned))"
   ]
  },
  {
   "cell_type": "code",
   "execution_count": 50,
   "metadata": {
    "collapsed": true
   },
   "outputs": [],
   "source": [
    "# training = octoberDataNp[:4000]\n",
    "# validation = octoberDataNp[4000:]\n",
    "trainingCollectionNp = np.array(trainingCollection)\n",
    "np.save('train.npy', trainingCollectionNp)\n",
    "###90150 properties\n",
    "training = trainingCollectionNp[:80000]\n",
    "validation = trainingCollectionNp[80000:]"
   ]
  },
  {
   "cell_type": "code",
   "execution_count": 15,
   "metadata": {
    "collapsed": true
   },
   "outputs": [],
   "source": [
    "dtrainOctober = xgb.DMatrix(training[:, :-1], label=training[:, -1:])\n",
    "dvalidationOctober = xgb.DMatrix(validation[:, :-1], label=validation[:, -1:])"
   ]
  },
  {
   "cell_type": "code",
   "execution_count": 43,
   "metadata": {
    "collapsed": true
   },
   "outputs": [],
   "source": [
    "param = {'max_depth':2, 'eta':0.03, 'silent':0 }\n",
    "num_round = 400\n",
    "bst = xgb.train(param, dtrainOctober, num_round)"
   ]
  },
  {
   "cell_type": "code",
   "execution_count": 44,
   "metadata": {},
   "outputs": [
    {
     "name": "stdout",
     "output_type": "stream",
     "text": [
      "avgError = 0.0664822253609\n"
     ]
    }
   ],
   "source": [
    "preds = bst.predict(dvalidationOctober)\n",
    "validlabels = dvalidationOctober.get_label()\n",
    "predList = preds.tolist()\n",
    "avgError = sum([abs(predList[index] - validlabels[index]) for index in range(len(predList))])/len(predList)\n",
    "print(\"avgError = \" + str(avgError))"
   ]
  },
  {
   "cell_type": "code",
   "execution_count": 45,
   "metadata": {
    "collapsed": true
   },
   "outputs": [],
   "source": [
    "# #tuning\n",
    "# bestDepth = 0\n",
    "# avgErrorTracker = 0.066\n",
    "\n",
    "# for depth in range(10):\n",
    "#     maxDepth = depth + 1\n",
    "#     stepSize = 0.03\n",
    "#     param = {'max_depth':maxDepth, 'eta': stepSize, 'silent':0 }\n",
    "#     num_round = 400\n",
    "#     bst = xgb.train(param, dtrainOctober, num_round)\n",
    "#     preds = bst.predict(dvalidationOctober)\n",
    "#     validlabels = dvalidationOctober.get_label()\n",
    "    \n",
    "#     predList = preds.tolist()\n",
    "#     avgError = mean_absolute_error(validlabels, predList)\n",
    "#     print(\"depth = \" + str(maxDepth))\n",
    "#     print(\"avgError = \" + str(avgError))\n",
    "#     print(\"stepSize = \" + str(stepSize))\n",
    "#     print(\"num_round = \" + str(num_round))\n",
    "#     if avgError < avgErrorTracker:\n",
    "#         avgErrorTracker = avgError\n",
    "#         bestDepth = maxDepth"
   ]
  },
  {
   "cell_type": "markdown",
   "metadata": {},
   "source": [
    "### Predict Test Set"
   ]
  },
  {
   "cell_type": "code",
   "execution_count": 19,
   "metadata": {
    "collapsed": true
   },
   "outputs": [],
   "source": [
    "with open('properties_2016.csv','r') as csvfile:\n",
    "    property_reader = csv.DictReader(csvfile)\n",
    "    testData = []\n",
    "    for row in property_reader:\n",
    "        testData.append(clean(row, numericElemsAvgs, categorElemsModes, numeric, categorical, categoriesToKeep))"
   ]
  },
  {
   "cell_type": "code",
   "execution_count": 20,
   "metadata": {
    "collapsed": true
   },
   "outputs": [],
   "source": [
    "testDataNp = np.array(testData)"
   ]
  },
  {
   "cell_type": "code",
   "execution_count": 21,
   "metadata": {},
   "outputs": [
    {
     "data": {
      "text/plain": [
       "(2985217, 55)"
      ]
     },
     "execution_count": 21,
     "metadata": {},
     "output_type": "execute_result"
    }
   ],
   "source": [
    "testDataNp.shape"
   ]
  },
  {
   "cell_type": "code",
   "execution_count": 22,
   "metadata": {
    "collapsed": true
   },
   "outputs": [],
   "source": [
    "# np.save('testData.npy', testDataNp)"
   ]
  },
  {
   "cell_type": "code",
   "execution_count": 2,
   "metadata": {
    "collapsed": true
   },
   "outputs": [],
   "source": [
    "# dtest = xgb.DMatrix(testDataNp)\n",
    "# testPreds = bst.predict(dtest)\n",
    "testPreds = np.load(\"NNPredictionsV3/finalPredV3.npy\").T"
   ]
  },
  {
   "cell_type": "code",
   "execution_count": 23,
   "metadata": {
    "collapsed": true
   },
   "outputs": [],
   "source": [
    "predsCopied = np.vstack((testPreds, testPreds, testPreds, testPreds, testPreds, testPreds)).T"
   ]
  },
  {
   "cell_type": "code",
   "execution_count": 4,
   "metadata": {
    "collapsed": true
   },
   "outputs": [],
   "source": [
    "with open('properties_2016.csv','r') as csvfile:\n",
    "    property_reader = csv.DictReader(csvfile)\n",
    "    parcelIDs = []\n",
    "    for row in property_reader:\n",
    "        parcelIDs.append(int(row['parcelid']))"
   ]
  },
  {
   "cell_type": "code",
   "execution_count": 5,
   "metadata": {},
   "outputs": [
    {
     "data": {
      "text/plain": [
       "(2985217, 6)"
      ]
     },
     "execution_count": 5,
     "metadata": {},
     "output_type": "execute_result"
    }
   ],
   "source": [
    "parcelidNp = np.array(parcelIDs).T\n",
    "predsCopied.shape"
   ]
  },
  {
   "cell_type": "code",
   "execution_count": 6,
   "metadata": {
    "collapsed": true
   },
   "outputs": [],
   "source": [
    "parcelidNp = parcelidNp.reshape(2985217, 1)"
   ]
  },
  {
   "cell_type": "code",
   "execution_count": 24,
   "metadata": {},
   "outputs": [
    {
     "name": "stdout",
     "output_type": "stream",
     "text": [
      "(2985217, 1)\n",
      "(2985217, 6)\n"
     ]
    }
   ],
   "source": [
    "combinedPreds = np.hstack((parcelidNp, predsCopied))\n",
    "print parcelidNp.shape\n",
    "print predsCopied.shape"
   ]
  },
  {
   "cell_type": "code",
   "execution_count": 26,
   "metadata": {},
   "outputs": [],
   "source": [
    "np.savetxt(\"zestimates_results_NNV5.csv\", combinedPreds, fmt='%i,%.4f,%.4f,%.4f,%.4f,%.4f,%.4f', delimiter=\",\", header='ParcelId,201610,201611,201612,201710,201711,201712', comments =\"\")"
   ]
  },
  {
   "cell_type": "code",
   "execution_count": 9,
   "metadata": {},
   "outputs": [
    {
     "data": {
      "text/plain": [
       "(1, 2985217)"
      ]
     },
     "execution_count": 9,
     "metadata": {},
     "output_type": "execute_result"
    }
   ],
   "source": [
    "testPreds.shape"
   ]
  },
  {
   "cell_type": "code",
   "execution_count": 34,
   "metadata": {
    "collapsed": true
   },
   "outputs": [],
   "source": [
    "trainLook = np.load(\"trainingData.npy\")"
   ]
  },
  {
   "cell_type": "code",
   "execution_count": 38,
   "metadata": {},
   "outputs": [
    {
     "name": "stdout",
     "output_type": "stream",
     "text": [
      "[-4.605 -4.605 -4.51  -3.194 -2.976 -2.688 -2.397 -2.375 -2.365 -2.365]\n"
     ]
    }
   ],
   "source": [
    "a = np.array(trainLook[:,-1:]).T\n",
    "a.sort()\n",
    "print(a[0][:10])\n",
    "# sess = tf.Session()\n",
    "# a = tf.train.Saver([V,W])\n",
    "# a.restore(sess, \"ZestimateWeight.meta\")"
   ]
  },
  {
   "cell_type": "code",
   "execution_count": 22,
   "metadata": {},
   "outputs": [],
   "source": [
    "testPreds = np.clip(testPreds, -5, 5)"
   ]
  },
  {
   "cell_type": "code",
   "execution_count": 21,
   "metadata": {},
   "outputs": [
    {
     "data": {
      "text/plain": [
       "array([[ -4.05451655e-03,  -5.37820160e-03,   7.08064735e-02, ...,\n",
       "          6.55902688e+05,   6.55902688e+05,   6.55902688e+05]], dtype=float32)"
      ]
     },
     "execution_count": 21,
     "metadata": {},
     "output_type": "execute_result"
    }
   ],
   "source": [
    "testPreds"
   ]
  },
  {
   "cell_type": "code",
   "execution_count": null,
   "metadata": {
    "collapsed": true
   },
   "outputs": [],
   "source": []
  }
 ],
 "metadata": {
  "kernelspec": {
   "display_name": "Python 2",
   "language": "python",
   "name": "python2"
  },
  "language_info": {
   "codemirror_mode": {
    "name": "ipython",
    "version": 2
   },
   "file_extension": ".py",
   "mimetype": "text/x-python",
   "name": "python",
   "nbconvert_exporter": "python",
   "pygments_lexer": "ipython2",
   "version": "2.7.13"
  }
 },
 "nbformat": 4,
 "nbformat_minor": 2
}
